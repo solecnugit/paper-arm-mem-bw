{
 "cells": [
  {
   "cell_type": "markdown",
   "metadata": {},
   "source": [
    "# 通过 XP 节点的监控数据分析连接的设备类型\n",
    "\n",
    "## 通过 core-to-core 的 benchmark 分析 RN-F 节点"
   ]
  },
  {
   "cell_type": "code",
   "execution_count": 82,
   "metadata": {},
   "outputs": [
    {
     "data": {
      "text/html": [
       "<div>\n",
       "<style scoped>\n",
       "    .dataframe tbody tr th:only-of-type {\n",
       "        vertical-align: middle;\n",
       "    }\n",
       "\n",
       "    .dataframe tbody tr th {\n",
       "        vertical-align: top;\n",
       "    }\n",
       "\n",
       "    .dataframe thead th {\n",
       "        text-align: right;\n",
       "    }\n",
       "</style>\n",
       "<table border=\"1\" class=\"dataframe\">\n",
       "  <thead>\n",
       "    <tr style=\"text-align: right;\">\n",
       "      <th></th>\n",
       "      <th>count</th>\n",
       "      <th>event_name</th>\n",
       "      <th>label</th>\n",
       "    </tr>\n",
       "  </thead>\n",
       "  <tbody>\n",
       "    <tr>\n",
       "      <th>0</th>\n",
       "      <td>503004</td>\n",
       "      <td>arm_cmn_0/mxp_p0_dat_txflit_valid,bynodeid=1,n...</td>\n",
       "      <td>0</td>\n",
       "    </tr>\n",
       "    <tr>\n",
       "      <th>1</th>\n",
       "      <td>0</td>\n",
       "      <td>arm_cmn_0/mxp_p1_dat_txflit_valid,bynodeid=1,n...</td>\n",
       "      <td>0</td>\n",
       "    </tr>\n",
       "    <tr>\n",
       "      <th>2</th>\n",
       "      <td>140452</td>\n",
       "      <td>arm_cmn_0/mxp_p0_dat_txflit_valid,bynodeid=1,n...</td>\n",
       "      <td>0</td>\n",
       "    </tr>\n",
       "    <tr>\n",
       "      <th>3</th>\n",
       "      <td>1793987</td>\n",
       "      <td>arm_cmn_0/mxp_p1_dat_txflit_valid,bynodeid=1,n...</td>\n",
       "      <td>0</td>\n",
       "    </tr>\n",
       "    <tr>\n",
       "      <th>4</th>\n",
       "      <td>0</td>\n",
       "      <td>arm_cmn_0/mxp_p0_dat_txflit_valid,bynodeid=1,n...</td>\n",
       "      <td>0</td>\n",
       "    </tr>\n",
       "    <tr>\n",
       "      <th>...</th>\n",
       "      <td>...</td>\n",
       "      <td>...</td>\n",
       "      <td>...</td>\n",
       "    </tr>\n",
       "    <tr>\n",
       "      <th>91</th>\n",
       "      <td>3493</td>\n",
       "      <td>arm_cmn_0/mxp_p1_dat_txflit_valid,bynodeid=1,n...</td>\n",
       "      <td>0</td>\n",
       "    </tr>\n",
       "    <tr>\n",
       "      <th>92</th>\n",
       "      <td>0</td>\n",
       "      <td>arm_cmn_0/mxp_p0_dat_txflit_valid,bynodeid=1,n...</td>\n",
       "      <td>0</td>\n",
       "    </tr>\n",
       "    <tr>\n",
       "      <th>93</th>\n",
       "      <td>0</td>\n",
       "      <td>arm_cmn_0/mxp_p1_dat_txflit_valid,bynodeid=1,n...</td>\n",
       "      <td>0</td>\n",
       "    </tr>\n",
       "    <tr>\n",
       "      <th>94</th>\n",
       "      <td>0</td>\n",
       "      <td>arm_cmn_0/mxp_p0_dat_txflit_valid,bynodeid=1,n...</td>\n",
       "      <td>0</td>\n",
       "    </tr>\n",
       "    <tr>\n",
       "      <th>95</th>\n",
       "      <td>592</td>\n",
       "      <td>arm_cmn_0/mxp_p1_dat_txflit_valid,bynodeid=1,n...</td>\n",
       "      <td>0</td>\n",
       "    </tr>\n",
       "  </tbody>\n",
       "</table>\n",
       "<p>96 rows × 3 columns</p>\n",
       "</div>"
      ],
      "text/plain": [
       "      count                                         event_name  label\n",
       "0    503004  arm_cmn_0/mxp_p0_dat_txflit_valid,bynodeid=1,n...      0\n",
       "1         0  arm_cmn_0/mxp_p1_dat_txflit_valid,bynodeid=1,n...      0\n",
       "2    140452  arm_cmn_0/mxp_p0_dat_txflit_valid,bynodeid=1,n...      0\n",
       "3   1793987  arm_cmn_0/mxp_p1_dat_txflit_valid,bynodeid=1,n...      0\n",
       "4         0  arm_cmn_0/mxp_p0_dat_txflit_valid,bynodeid=1,n...      0\n",
       "..      ...                                                ...    ...\n",
       "91     3493  arm_cmn_0/mxp_p1_dat_txflit_valid,bynodeid=1,n...      0\n",
       "92        0  arm_cmn_0/mxp_p0_dat_txflit_valid,bynodeid=1,n...      0\n",
       "93        0  arm_cmn_0/mxp_p1_dat_txflit_valid,bynodeid=1,n...      0\n",
       "94        0  arm_cmn_0/mxp_p0_dat_txflit_valid,bynodeid=1,n...      0\n",
       "95      592  arm_cmn_0/mxp_p1_dat_txflit_valid,bynodeid=1,n...      0\n",
       "\n",
       "[96 rows x 3 columns]"
      ]
     },
     "execution_count": 82,
     "metadata": {},
     "output_type": "execute_result"
    }
   ],
   "source": [
    "import pandas as pd\n",
    "from sklearn.cluster import KMeans\n",
    "import matplotlib.pyplot as plt\n",
    "\n",
    "# 读取 CSV 文件形成 DataFrame\n",
    "file_path = 'data/perf.data.2'\n",
    "perf_data= pd.read_csv(file_path, sep=';', header=None, names=['count', 'event_name'], usecols=[0, 2])\n",
    "\n",
    "# 提取第一列的数据\n",
    "event_counts = perf_data.iloc[:, 0].values.reshape(-1, 1)\n",
    "\n",
    "# 使用 KMeans 进行聚类\n",
    "kmeans = KMeans(n_clusters=2, random_state=0).fit(event_counts)\n",
    "\n",
    "# 获取聚类结果\n",
    "labels = kmeans.labels_\n",
    "\n",
    "# 将聚类结果添加到 DataFrame 中\n",
    "perf_data['label'] = labels\n",
    "\n",
    "# 打印聚类结果\n",
    "perf_data"
   ]
  },
  {
   "cell_type": "code",
   "execution_count": 83,
   "metadata": {},
   "outputs": [
    {
     "data": {
      "image/png": "[encoded data removed]",
      "text/plain": [
       "<Figure size 640x480 with 1 Axes>"
      ]
     },
     "metadata": {},
     "output_type": "display_data"
    }
   ],
   "source": [
    "# 可视化聚类结果\n",
    "plt.scatter(range(len(event_counts)), event_counts, c=labels, cmap='viridis')\n",
    "plt.xlabel('Index')\n",
    "plt.title('KMeans Clustering')\n",
    "plt.show()"
   ]
  },
  {
   "cell_type": "code",
   "execution_count": 84,
   "metadata": {},
   "outputs": [
    {
     "data": {
      "text/html": [
       "<div>\n",
       "<style scoped>\n",
       "    .dataframe tbody tr th:only-of-type {\n",
       "        vertical-align: middle;\n",
       "    }\n",
       "\n",
       "    .dataframe tbody tr th {\n",
       "        vertical-align: top;\n",
       "    }\n",
       "\n",
       "    .dataframe thead th {\n",
       "        text-align: right;\n",
       "    }\n",
       "</style>\n",
       "<table border=\"1\" class=\"dataframe\">\n",
       "  <thead>\n",
       "    <tr style=\"text-align: right;\">\n",
       "      <th></th>\n",
       "      <th>count</th>\n",
       "      <th>event_name</th>\n",
       "      <th>label</th>\n",
       "    </tr>\n",
       "  </thead>\n",
       "  <tbody>\n",
       "    <tr>\n",
       "      <th>38</th>\n",
       "      <td>50425955</td>\n",
       "      <td>arm_cmn_0/mxp_p0_dat_txflit_valid,bynodeid=1,n...</td>\n",
       "      <td>1</td>\n",
       "    </tr>\n",
       "    <tr>\n",
       "      <th>40</th>\n",
       "      <td>50206604</td>\n",
       "      <td>arm_cmn_0/mxp_p0_dat_txflit_valid,bynodeid=1,n...</td>\n",
       "      <td>1</td>\n",
       "    </tr>\n",
       "  </tbody>\n",
       "</table>\n",
       "</div>"
      ],
      "text/plain": [
       "       count                                         event_name  label\n",
       "38  50425955  arm_cmn_0/mxp_p0_dat_txflit_valid,bynodeid=1,n...      1\n",
       "40  50206604  arm_cmn_0/mxp_p0_dat_txflit_valid,bynodeid=1,n...      1"
      ]
     },
     "execution_count": 84,
     "metadata": {},
     "output_type": "execute_result"
    }
   ],
   "source": [
    "# 计算每个聚类标签的频率\n",
    "label_counts = perf_data['label'].value_counts()\n",
    "# 找到频率最小的标签\n",
    "least_common_label = label_counts.idxmin()\n",
    "\n",
    "# 选出较少的那一类\n",
    "selected_perf_data = perf_data[perf_data['label'] == least_common_label]\n",
    "selected_perf_data"
   ]
  },
  {
   "cell_type": "markdown",
   "metadata": {},
   "source": [
    "这里需要写一个逻辑，判断聚类筛选出来的个数：\n",
    "\n",
    "- 1 个：表明 CPU a 和 CPU b 在同一个 port（因为存在 DSU / CAL，即 2 个 core 组成的 DSU / CAL 作为一个 RN-F 节点），将该 port 标记为 RN-F\n",
    "- 2 个：表明 CPU a 和 CPU b 分别属于两个 port，将这两个 port 都标记为 RN-F\n",
    "- 更多个：无法处理，报错"
   ]
  },
  {
   "cell_type": "code",
   "execution_count": 85,
   "metadata": {},
   "outputs": [
    {
     "name": "stdout",
     "output_type": "stream",
     "text": [
      "port: 0, nodeid: 0xd0\n",
      "port: 0, nodeid: 0x110\n"
     ]
    }
   ],
   "source": [
    "for index, row in selected_perf_data.iterrows():\n",
    "    event_name: str = row['event_name']\n",
    "    port = int(event_name[15])\n",
    "    nodeid = event_name.split('/')[1].split(',')[2][7:]\n",
    "    print(f'port: {port}, nodeid: {nodeid}')"
   ]
  },
  {
   "cell_type": "markdown",
   "metadata": {},
   "source": [
    "## 通过 STREAM benchmark 分析 SN-F 节点"
   ]
  },
  {
   "cell_type": "code",
   "execution_count": 86,
   "metadata": {},
   "outputs": [
    {
     "data": {
      "text/html": [
       "<div>\n",
       "<style scoped>\n",
       "    .dataframe tbody tr th:only-of-type {\n",
       "        vertical-align: middle;\n",
       "    }\n",
       "\n",
       "    .dataframe tbody tr th {\n",
       "        vertical-align: top;\n",
       "    }\n",
       "\n",
       "    .dataframe thead th {\n",
       "        text-align: right;\n",
       "    }\n",
       "</style>\n",
       "<table border=\"1\" class=\"dataframe\">\n",
       "  <thead>\n",
       "    <tr style=\"text-align: right;\">\n",
       "      <th></th>\n",
       "      <th>count</th>\n",
       "      <th>event_name</th>\n",
       "      <th>label</th>\n",
       "    </tr>\n",
       "  </thead>\n",
       "  <tbody>\n",
       "    <tr>\n",
       "      <th>0</th>\n",
       "      <td>79132460</td>\n",
       "      <td>arm_cmn_0/mxp_p0_dat_txflit_valid,bynodeid=1,n...</td>\n",
       "      <td>0</td>\n",
       "    </tr>\n",
       "    <tr>\n",
       "      <th>1</th>\n",
       "      <td>0</td>\n",
       "      <td>arm_cmn_0/mxp_p1_dat_txflit_valid,bynodeid=1,n...</td>\n",
       "      <td>0</td>\n",
       "    </tr>\n",
       "    <tr>\n",
       "      <th>2</th>\n",
       "      <td>2473741881</td>\n",
       "      <td>arm_cmn_0/mxp_p0_dat_txflit_valid,bynodeid=1,n...</td>\n",
       "      <td>2</td>\n",
       "    </tr>\n",
       "    <tr>\n",
       "      <th>3</th>\n",
       "      <td>2480506336</td>\n",
       "      <td>arm_cmn_0/mxp_p1_dat_txflit_valid,bynodeid=1,n...</td>\n",
       "      <td>2</td>\n",
       "    </tr>\n",
       "    <tr>\n",
       "      <th>4</th>\n",
       "      <td>0</td>\n",
       "      <td>arm_cmn_0/mxp_p0_dat_txflit_valid,bynodeid=1,n...</td>\n",
       "      <td>0</td>\n",
       "    </tr>\n",
       "    <tr>\n",
       "      <th>...</th>\n",
       "      <td>...</td>\n",
       "      <td>...</td>\n",
       "      <td>...</td>\n",
       "    </tr>\n",
       "    <tr>\n",
       "      <th>91</th>\n",
       "      <td>76395</td>\n",
       "      <td>arm_cmn_0/mxp_p1_dat_txflit_valid,bynodeid=1,n...</td>\n",
       "      <td>0</td>\n",
       "    </tr>\n",
       "    <tr>\n",
       "      <th>92</th>\n",
       "      <td>0</td>\n",
       "      <td>arm_cmn_0/mxp_p0_dat_txflit_valid,bynodeid=1,n...</td>\n",
       "      <td>0</td>\n",
       "    </tr>\n",
       "    <tr>\n",
       "      <th>93</th>\n",
       "      <td>0</td>\n",
       "      <td>arm_cmn_0/mxp_p1_dat_txflit_valid,bynodeid=1,n...</td>\n",
       "      <td>0</td>\n",
       "    </tr>\n",
       "    <tr>\n",
       "      <th>94</th>\n",
       "      <td>0</td>\n",
       "      <td>arm_cmn_0/mxp_p0_dat_txflit_valid,bynodeid=1,n...</td>\n",
       "      <td>0</td>\n",
       "    </tr>\n",
       "    <tr>\n",
       "      <th>95</th>\n",
       "      <td>5385</td>\n",
       "      <td>arm_cmn_0/mxp_p1_dat_txflit_valid,bynodeid=1,n...</td>\n",
       "      <td>0</td>\n",
       "    </tr>\n",
       "  </tbody>\n",
       "</table>\n",
       "<p>96 rows × 3 columns</p>\n",
       "</div>"
      ],
      "text/plain": [
       "         count                                         event_name  label\n",
       "0     79132460  arm_cmn_0/mxp_p0_dat_txflit_valid,bynodeid=1,n...      0\n",
       "1            0  arm_cmn_0/mxp_p1_dat_txflit_valid,bynodeid=1,n...      0\n",
       "2   2473741881  arm_cmn_0/mxp_p0_dat_txflit_valid,bynodeid=1,n...      2\n",
       "3   2480506336  arm_cmn_0/mxp_p1_dat_txflit_valid,bynodeid=1,n...      2\n",
       "4            0  arm_cmn_0/mxp_p0_dat_txflit_valid,bynodeid=1,n...      0\n",
       "..         ...                                                ...    ...\n",
       "91       76395  arm_cmn_0/mxp_p1_dat_txflit_valid,bynodeid=1,n...      0\n",
       "92           0  arm_cmn_0/mxp_p0_dat_txflit_valid,bynodeid=1,n...      0\n",
       "93           0  arm_cmn_0/mxp_p1_dat_txflit_valid,bynodeid=1,n...      0\n",
       "94           0  arm_cmn_0/mxp_p0_dat_txflit_valid,bynodeid=1,n...      0\n",
       "95        5385  arm_cmn_0/mxp_p1_dat_txflit_valid,bynodeid=1,n...      0\n",
       "\n",
       "[96 rows x 3 columns]"
      ]
     },
     "execution_count": 86,
     "metadata": {},
     "output_type": "execute_result"
    }
   ],
   "source": [
    "# 读取 CSV 文件形成 DataFrame\n",
    "file_path = 'data/perf.data.stream'\n",
    "perf_data= pd.read_csv(file_path, sep=';', header=None, names=['count', 'event_name'], usecols=[0, 2])\n",
    "\n",
    "# 提取第一列的数据\n",
    "event_counts = perf_data.iloc[:, 0].values.reshape(-1, 1)\n",
    "\n",
    "# 使用 KMeans 进行聚类\n",
    "kmeans = KMeans(n_clusters=4, random_state=0).fit(event_counts)\n",
    "\n",
    "# 获取聚类结果\n",
    "labels = kmeans.labels_\n",
    "\n",
    "# 将聚类结果添加到 DataFrame 中\n",
    "perf_data['label'] = labels\n",
    "\n",
    "# 打印聚类结果\n",
    "perf_data"
   ]
  },
  {
   "cell_type": "code",
   "execution_count": 87,
   "metadata": {},
   "outputs": [
    {
     "data": {
      "image/png": "[encoded data removed]",
      "text/plain": [
       "<Figure size 640x480 with 1 Axes>"
      ]
     },
     "metadata": {},
     "output_type": "display_data"
    }
   ],
   "source": [
    "# 可视化聚类结果\n",
    "plt.scatter(range(len(event_counts)), event_counts, c=labels, cmap='viridis')\n",
    "plt.xlabel('Index')\n",
    "plt.title('KMeans Clustering')\n",
    "plt.show()"
   ]
  },
  {
   "cell_type": "code",
   "execution_count": 88,
   "metadata": {},
   "outputs": [
    {
     "data": {
      "text/html": [
       "<div>\n",
       "<style scoped>\n",
       "    .dataframe tbody tr th:only-of-type {\n",
       "        vertical-align: middle;\n",
       "    }\n",
       "\n",
       "    .dataframe tbody tr th {\n",
       "        vertical-align: top;\n",
       "    }\n",
       "\n",
       "    .dataframe thead th {\n",
       "        text-align: right;\n",
       "    }\n",
       "</style>\n",
       "<table border=\"1\" class=\"dataframe\">\n",
       "  <thead>\n",
       "    <tr style=\"text-align: right;\">\n",
       "      <th></th>\n",
       "      <th>count</th>\n",
       "      <th>event_name</th>\n",
       "      <th>label</th>\n",
       "    </tr>\n",
       "  </thead>\n",
       "  <tbody>\n",
       "    <tr>\n",
       "      <th>16</th>\n",
       "      <td>7979598926</td>\n",
       "      <td>arm_cmn_0/mxp_p0_dat_txflit_valid,bynodeid=1,n...</td>\n",
       "      <td>1</td>\n",
       "    </tr>\n",
       "    <tr>\n",
       "      <th>30</th>\n",
       "      <td>8118703420</td>\n",
       "      <td>arm_cmn_0/mxp_p0_dat_txflit_valid,bynodeid=1,n...</td>\n",
       "      <td>1</td>\n",
       "    </tr>\n",
       "    <tr>\n",
       "      <th>32</th>\n",
       "      <td>8048858333</td>\n",
       "      <td>arm_cmn_0/mxp_p0_dat_txflit_valid,bynodeid=1,n...</td>\n",
       "      <td>1</td>\n",
       "    </tr>\n",
       "    <tr>\n",
       "      <th>46</th>\n",
       "      <td>8044995474</td>\n",
       "      <td>arm_cmn_0/mxp_p0_dat_txflit_valid,bynodeid=1,n...</td>\n",
       "      <td>1</td>\n",
       "    </tr>\n",
       "    <tr>\n",
       "      <th>48</th>\n",
       "      <td>8132379868</td>\n",
       "      <td>arm_cmn_0/mxp_p0_dat_txflit_valid,bynodeid=1,n...</td>\n",
       "      <td>1</td>\n",
       "    </tr>\n",
       "    <tr>\n",
       "      <th>62</th>\n",
       "      <td>8157348519</td>\n",
       "      <td>arm_cmn_0/mxp_p0_dat_txflit_valid,bynodeid=1,n...</td>\n",
       "      <td>1</td>\n",
       "    </tr>\n",
       "    <tr>\n",
       "      <th>64</th>\n",
       "      <td>8127457540</td>\n",
       "      <td>arm_cmn_0/mxp_p0_dat_txflit_valid,bynodeid=1,n...</td>\n",
       "      <td>1</td>\n",
       "    </tr>\n",
       "    <tr>\n",
       "      <th>78</th>\n",
       "      <td>8094474632</td>\n",
       "      <td>arm_cmn_0/mxp_p0_dat_txflit_valid,bynodeid=1,n...</td>\n",
       "      <td>1</td>\n",
       "    </tr>\n",
       "  </tbody>\n",
       "</table>\n",
       "</div>"
      ],
      "text/plain": [
       "         count                                         event_name  label\n",
       "16  7979598926  arm_cmn_0/mxp_p0_dat_txflit_valid,bynodeid=1,n...      1\n",
       "30  8118703420  arm_cmn_0/mxp_p0_dat_txflit_valid,bynodeid=1,n...      1\n",
       "32  8048858333  arm_cmn_0/mxp_p0_dat_txflit_valid,bynodeid=1,n...      1\n",
       "46  8044995474  arm_cmn_0/mxp_p0_dat_txflit_valid,bynodeid=1,n...      1\n",
       "48  8132379868  arm_cmn_0/mxp_p0_dat_txflit_valid,bynodeid=1,n...      1\n",
       "62  8157348519  arm_cmn_0/mxp_p0_dat_txflit_valid,bynodeid=1,n...      1\n",
       "64  8127457540  arm_cmn_0/mxp_p0_dat_txflit_valid,bynodeid=1,n...      1\n",
       "78  8094474632  arm_cmn_0/mxp_p0_dat_txflit_valid,bynodeid=1,n...      1"
      ]
     },
     "execution_count": 88,
     "metadata": {},
     "output_type": "execute_result"
    }
   ],
   "source": [
    "# 计算每个聚类标签的频率\n",
    "label_counts = perf_data['label'].value_counts()\n",
    "# 找到频率最小的标签\n",
    "least_common_label = label_counts.idxmin()\n",
    "\n",
    "# 选出较少的那一类\n",
    "selected_perf_data = perf_data[perf_data['label'] == least_common_label]\n",
    "selected_perf_data"
   ]
  },
  {
   "cell_type": "code",
   "execution_count": 89,
   "metadata": {},
   "outputs": [
    {
     "name": "stdout",
     "output_type": "stream",
     "text": [
      "port: 0, nodeid: 0x8\n",
      "port: 0, nodeid: 0x1c8\n",
      "port: 0, nodeid: 0x10\n",
      "port: 0, nodeid: 0x1d0\n",
      "port: 0, nodeid: 0x18\n",
      "port: 0, nodeid: 0x1d8\n",
      "port: 0, nodeid: 0x20\n",
      "port: 0, nodeid: 0x1e0\n"
     ]
    }
   ],
   "source": [
    "for index, row in selected_perf_data.iterrows():\n",
    "    event_name: str = row['event_name']\n",
    "    port = int(event_name[15])\n",
    "    nodeid = event_name.split('/')[1].split(',')[2][7:]\n",
    "    print(f'port: {port}, nodeid: {nodeid}')"
   ]
  }
 ],
 "metadata": {
  "kernelspec": {
   "display_name": "base",
   "language": "python",
   "name": "python3"
  },
  "language_info": {
   "codemirror_mode": {
    "name": "ipython",
    "version": 3
   },
   "file_extension": ".py",
   "mimetype": "text/x-python",
   "name": "python",
   "nbconvert_exporter": "python",
   "pygments_lexer": "ipython3",
   "version": "3.9.12"
  }
 },
 "nbformat": 4,
 "nbformat_minor": 2
}
